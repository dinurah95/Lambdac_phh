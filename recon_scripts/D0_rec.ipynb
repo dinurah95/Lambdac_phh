{
 "cells": [
  {
   "cell_type": "code",
   "execution_count": null,
   "id": "9d177b87",
   "metadata": {},
   "outputs": [],
   "source": [
    "import basf2 as b2\n",
    "import modularAnalysis as ma\n",
    "import variables.collections as vc\n",
    "import variables.utils as vu\n",
    "import stdCharged as stdc\n",
    "import variables as va\n",
    "from stdV0s import stdKshorts\n",
    "from stdPi0s import stdPi0s\n",
    "from stdPhotons import stdPhotons\n",
    "from datetime import *\n",
    "from ROOT import Belle2\n",
    "import vertex as vx\n",
    "import os\n",
    "import math\n",
    "import sys"
   ]
  },
  {
   "cell_type": "code",
   "execution_count": null,
   "id": "31ae7117",
   "metadata": {},
   "outputs": [],
   "source": [
    "my_path = b2.create_path()\n",
    "b2.set_log_level(b2.LogLevel.ERROR)"
   ]
  },
  {
   "cell_type": "code",
   "execution_count": null,
   "id": "e0185eb7",
   "metadata": {},
   "outputs": [],
   "source": [
    "input_file = []\n",
    "output_file = \"out_CFT.root\"\n",
    "ma.inputMdstList(input_file, path=my_path)"
   ]
  },
  {
   "cell_type": "code",
   "execution_count": null,
   "id": "4344c007",
   "metadata": {},
   "outputs": [],
   "source": [
    "ma.fillParticleList(\n",
    "    \"pi+:D0\", \"thetaInCDCAcceptance and dr < 1 and abs(dz) < 3\", path=my_path\n",
    ")\n",
    "ma.fillParticleList(\n",
    "    \"K+:D0\", \"thetaInCDCAcceptance and dr < 1 and abs(dz) < 3\", path=my_path\n",
    ")"
   ]
  },
  {
   "cell_type": "code",
   "execution_count": null,
   "id": "4265267a",
   "metadata": {},
   "outputs": [],
   "source": [
    "ma.reconstructDecay(\n",
    "    decayString=\"D0:full -> K-:D0 pi+:D0\",\n",
    "    cut=\"1.82 < InvM < 1.90\",\n",
    "    path=my_path,\n",
    ")"
   ]
  },
  {
   "cell_type": "code",
   "execution_count": null,
   "id": "ac30035f",
   "metadata": {},
   "outputs": [],
   "source": [
    "ma.matchMCTruth(list_name=\"D0:Kpi\", path=my_path)"
   ]
  },
  {
   "cell_type": "code",
   "execution_count": null,
   "id": "e3c953b0",
   "metadata": {},
   "outputs": [],
   "source": [
    "vx.treeFit('D0:Kpi',0.001,path=my_path)"
   ]
  },
  {
   "cell_type": "code",
   "execution_count": null,
   "id": "32e9c5a1",
   "metadata": {},
   "outputs": [],
   "source": [
    "va.variables.addAlias(\"genGrandmotherPDG\", \"genMotherPDG(1)\")\n",
    "va.variables.addAlias(\"binaryPID_K_pi\", \"binaryPID(321,211)\")\n",
    "va.variables.addAlias(\"binaryPID_mu_pi\", \"binaryPID(13,211)\")"
   ]
  },
  {
   "cell_type": "code",
   "execution_count": null,
   "id": "d42e7527",
   "metadata": {},
   "outputs": [],
   "source": [
    "kinematics = [\"pt\", \"p\", \"E\",\"cosTheta\",\"theta\",\"phi\"]\n",
    "cms_kinematics = vu.create_aliases(kinematics, \"useCMSFrame({variable})\", \"CMS\")"
   ]
  },
  {
   "cell_type": "code",
   "execution_count": null,
   "id": "83a4e512",
   "metadata": {},
   "outputs": [],
   "source": [
    "other_sig = [\"M\",\"genMotherPDG\",\"genGrandmotherPDG\",\"charge\",\"protonID\",\"electronID\",\"kaonID\",\"pionID\",\"muonID\"]"
   ]
  },
  {
   "cell_type": "code",
   "execution_count": null,
   "id": "3f0ee6c2",
   "metadata": {},
   "outputs": [],
   "source": [
    "ma.buildRestOfEvent('D0:Kpi', path=my_path)"
   ]
  },
  {
   "cell_type": "code",
   "execution_count": null,
   "id": "48ac408b",
   "metadata": {},
   "outputs": [],
   "source": [
    "cleanMask = ('cleanMask', 'dr < 1 and abs(dz) < 3','')\n",
    "ma.appendROEMasks('D0:Kpi', [cleanMask], path = my_path)"
   ]
  },
  {
   "cell_type": "code",
   "execution_count": null,
   "id": "683798c5",
   "metadata": {},
   "outputs": [],
   "source": [
    "d_vars = kinematics+cms_kinematics+vc.mc_truth+[\"M\",\"genMotherPDG\",\"charge\"]\n",
    "vars = vu.create_aliases_for_selected(\n",
    "    list_of_variables=vc.mc_truth\n",
    "    + kinematics\n",
    "    + cms_kinematics\n",
    "    + other_sig,\n",
    "    decay_string=\"D0 -> ^K- ^pi+\",\n",
    ")"
   ]
  },
  {
   "cell_type": "code",
   "execution_count": null,
   "id": "deb5770e",
   "metadata": {},
   "outputs": [],
   "source": [
    "ma.variablesToNtuple(\n",
    "    \"D0:Kpi\",\n",
    "    d_vars+vars,\n",
    "    filename=output_file,\n",
    "    treename=\"D0tree\",\n",
    "    path=my_path,\n",
    ")"
   ]
  },
  {
   "cell_type": "code",
   "execution_count": null,
   "id": "c1a46c0b",
   "metadata": {},
   "outputs": [],
   "source": [
    "b2.process(my_path)"
   ]
  }
 ],
 "metadata": {
  "kernelspec": {
   "display_name": "Python 3 (ipykernel)",
   "language": "python",
   "name": "python3"
  },
  "language_info": {
   "codemirror_mode": {
    "name": "ipython",
    "version": 3
   },
   "file_extension": ".py",
   "mimetype": "text/x-python",
   "name": "python",
   "nbconvert_exporter": "python",
   "pygments_lexer": "ipython3",
   "version": "3.9.12"
  }
 },
 "nbformat": 4,
 "nbformat_minor": 5
}
